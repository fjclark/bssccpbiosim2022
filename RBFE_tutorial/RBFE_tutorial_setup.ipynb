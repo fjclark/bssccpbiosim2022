{
 "cells": [
  {
   "cell_type": "markdown",
   "metadata": {},
   "source": [
    "# <span style=\"color:teal\">RBFE Network Tutorial - Setup</span>\n",
    "This is the RBFE (Relative Binding Free Energy) setup workflow jupyter notebook for the September 2022 CCPBioSim Workshop.\n",
    "It includes core as well as <span style=\"color:purple\">extra</span> options.\n",
    "\n",
    "**<span style=\"color:teal\">Authors</span>**\n",
    " - Anna Herz (@annamherz)\n",
    " - This is adapted from the FEP BioSimSpace Tutorial written by Jenke Scheen (https://github.com/michellab/BioSimSpaceTutorials/tree/main/04_fep).\n",
    "\n",
    "**<span style=\"color:teal\">Reading Time:</span>**\n",
    "~ XX\n",
    "\n",
    "##### <span style=\"color:teal\">Required knowledge</span> \n",
    " - Basic python\n",
    " - Part 1 of this workshop (Introduction to Alchemistry with BioSimSpace)\n",
    "    - this should include basic knowledge of the principles behind RBFE\n",
    "\n",
    "##### <span style=\"color:teal\">Learning objectives</span>  \n",
    " - Setup an FEP (Free Energy Perturbation) pipeline using BioSimSpace and SOMD.\n",
    " - Analyse and plot the results.\n",
    "\n",
    "### <span style=\"color:teal\">Table of Contents</span>  \n",
    "1. [Introduction](#intro)       \n",
    "    1.1 [The system: TYK2](#tyk2)     \n",
    "2. [Setup](#setup)   \n",
    "    2.1 [Choosing the parameters](#parameters)     \n",
    "    2.2 [Setting up the network](#perts)    \n",
    "    2.3 [Preparing for the pipeline](#loading)     \n",
    "    2.4 [Parallelisation](#loading)     \n",
    "\n",
    "<span style=\"color:pink\">Further reading </span> references some sections of the [LiveComs Best Practices for Alchemical Free Energy Calculations](https://livecomsjournal.org/index.php/livecoms/article/view/v2i1e18378).\n",
    "\n",
    "**<span style=\"color:teal\">Jupyter Cheat Sheet</span>**\n",
    "- To run the currently highlighted cell and move focus to the next cell, hold <kbd>&#x21E7; Shift</kbd> and press <kbd>&#x23ce; Enter</kbd>;\n",
    "- To run the currently highlighted cell and keep focus in the same cell, hold <kbd>&#x21E7; Ctri</kbd> and press <kbd>&#x23ce; Enter</kbd>;\n",
    "- To get help for a specific function, place the cursor within the function's brackets, hold <kbd>&#x21E7; Shift</kbd>, and press <kbd>&#x21E5; Tab</kbd>;\n",
    "- You can find the full documentation at [biosimspace.org](https://biosimspace.org).\n"
   ]
  },
  {
   "cell_type": "markdown",
   "metadata": {},
   "source": [
    "Below, we will import the neccessary libraries and also define all the folder locations for our run. This ensures that all of our files are written to where we want them to be."
   ]
  },
  {
   "cell_type": "code",
   "execution_count": 1,
   "metadata": {},
   "outputs": [
    {
     "name": "stdout",
     "output_type": "stream",
     "text": [
      "\n",
      "==============================================================\n",
      "Sending anonymous Sire usage statistics to http://siremol.org.\n",
      "For more information, see http://siremol.org/analytics\n",
      "To disable, set the environment variable 'SIRE_DONT_PHONEHOME' to 1\n",
      "To see the information sent, set the environment variable \n",
      "SIRE_VERBOSE_PHONEHOME equal to 1. To silence this message, set\n",
      "the environment variable SIRE_SILENT_PHONEHOME to 1.\n",
      "==============================================================\n",
      "\n"
     ]
    },
    {
     "name": "stderr",
     "output_type": "stream",
     "text": [
      "/home/anna/anaconda3/envs/biosimspace-dev/lib/python3.9/site-packages/numpy/core/getlimits.py:500: UserWarning: The value of the smallest subnormal for <class 'numpy.float64'> type is zero.\n",
      "  setattr(self, word, getattr(machar, word).flat[0])\n",
      "/home/anna/anaconda3/envs/biosimspace-dev/lib/python3.9/site-packages/numpy/core/getlimits.py:89: UserWarning: The value of the smallest subnormal for <class 'numpy.float64'> type is zero.\n",
      "  return self._float_to_str(self.smallest_subnormal)\n",
      "/home/anna/anaconda3/envs/biosimspace-dev/lib/python3.9/site-packages/numpy/core/getlimits.py:500: UserWarning: The value of the smallest subnormal for <class 'numpy.float32'> type is zero.\n",
      "  setattr(self, word, getattr(machar, word).flat[0])\n",
      "/home/anna/anaconda3/envs/biosimspace-dev/lib/python3.9/site-packages/numpy/core/getlimits.py:89: UserWarning: The value of the smallest subnormal for <class 'numpy.float32'> type is zero.\n",
      "  return self._float_to_str(self.smallest_subnormal)\n",
      "Warning: importing 'simtk.openmm' is deprecated.  Import 'openmm' instead.\n"
     ]
    },
    {
     "name": "stdout",
     "output_type": "stream",
     "text": [
      "/home/anna/Documents/september_2022_workshops/bssccpbiosim2022/RBFE_tutorial\n"
     ]
    }
   ],
   "source": [
    "# import libraries\n",
    "import BioSimSpace as BSS\n",
    "import os\n",
    "import glob\n",
    "import csv\n",
    "import numpy as np\n",
    "\n",
    "# define all the folder locations\n",
    "main_folder =  os.getcwd()\n",
    "print(main_folder)\n",
    "# scripts should be located in:\n",
    "scripts_folder = f\"{main_folder}/scripts\"\n",
    "# other folders\n",
    "input_dir = f\"{main_folder}/inputs\"\n",
    "path_to_ligands = f\"{main_folder}/inputs/ligands\""
   ]
  },
  {
   "cell_type": "markdown",
   "metadata": {},
   "source": [
    "### <span style=\"color:teal\">1. Introduction</span>\n",
    "<a id=\"intro\"></a>\n",
    "\n",
    "Computational chemists can support structure-activity relationship studies in medicinal chemistry by making computer models that can predict binding affinity of ligands to proteins. One of the most popular techniques for this is Free Energy Perturbation (FEP), which relies on simulation alchemical transformations of ligands in a congeneric series, simulating them both in a protein target and in just a waterbox. Relative free energies of binding (ΔΔG in kcal/mol) can then be computed by simply subtracting the ΔG (in protein) and the ΔG (in water). The basics of setting up and running an FEP calculation with BSS have already been covered in the `introduction_to_alchemistry` part of this workshop.\n",
    "\n",
    "In the previous section of the workshop, we only looked at a singular perturbation. However, typically in FEP the goal is to predict free energies of binding for a collection of ligands (normally 10-20). Although methods exist (such as absolute FEP) that can predict these energies directly (i.e. ΔGbind), these are often complicated and computationally expensive, whilst relative binding free energies are more accessible to run and give useful results as we are usually considering a congeneric series of ligands. Because we calculate relative energies, we therefore have to transform the between pairs of ligands in both the fee and bound phase (hence the name free energy perturbation. Typically, smaller (i.e. fewer heavy atoms) transformations are more reliable which means that for a ligand series we want to selectively make combinations of ligands to cover the whole series. In FEP, we do this using perturbation networks, typically generated by FEP softwares. Although generate these networks can be done by hand, it is typically better to do it programmatically to save time and create better networks (transformation reliability does not depend just on transformation size, but also a series of other unfavourable moiety transformations).   \n",
    "\n",
    "In this part of the workshop we will focus on how to setup this network for a series of ligands and also write all files necessary to further prepare our FEP simulations. The overall pipeline used is shown in the figure below.   \n",
    "\n",
    "![pipeline](images/fep_pipeline.png)\n",
    "\n",
    "Because preparing ligands and proteins for FEP can already require some heavy computation, this will be the first process that will run on a cluster. Then, after running and processing the FEP outputs, we can download the results back to our local workstation. There, the analysis notebook uses FreeEnergyAnalysis to process FEP predictions and generate plots. This is also explained in more detail at the end of the notebook.\n"
   ]
  },
  {
   "cell_type": "markdown",
   "metadata": {},
   "source": [
    "#### <span style=\"color:teal\">1.1. The system: TYK2</span>\n",
    "<a id=\"tyk2\"></a>\n",
    "\n",
    "For this tutorial we will be using TYK2, a common benchmarking set in the FEP field, first used by Schrödinger in their [2015 FEP+ paper](https://pubs.acs.org/doi/full/10.1021/ja512751q).\n",
    "\n",
    "\n",
    "![tyk2_49](images/tyk2_protlig.png)\n",
    "\n",
    "We can also view this protein below:\n"
   ]
  },
  {
   "cell_type": "code",
   "execution_count": null,
   "metadata": {},
   "outputs": [],
   "source": [
    "BSS.Notebook.View(\"input/protein.pdb\").system()"
   ]
  },
  {
   "cell_type": "markdown",
   "metadata": {},
   "source": [
    "#### <span style=\"color:teal\">2. Setting up the Network</span>\n",
    "<a id=\"setup\"></a>\n",
    "\n",
    "##### <span style=\"color:teal\">2.1 Choosing the parameters for the FEP runs</span>\n",
    "<a id=\"parameters\"></a>\n",
    "\n",
    "Running the below cell will generate the input nodes that can be used to choose various parameters for the FEP network.\n",
    "\n",
    "This includes the forcefields used (ligand, protein, water), the number of lambda windows, and the threshold for the LOMAP score. This threshold will be used to define a perturbation as being either 'regular' or 'difficult', and consequently how many lambda windows will be used. Default parameters are selected for all nodes.\n"
   ]
  },
  {
   "cell_type": "code",
   "execution_count": null,
   "metadata": {},
   "outputs": [],
   "source": [
    "node = BSS.Gateway.Node(\"A node to create input files for molecular dynamics simulation.\")\n",
    "\n",
    "node.addInput(\"Ligand FF\", BSS.Gateway.String(help=\"Force field to parameterise ligands with.\",\n",
    "                                             allowed=[\"GAFF1\", \"GAFF2\"],\n",
    "                                             default=\"GAFF2\"))\n",
    "\n",
    "node.addInput(\"Protein FF\", BSS.Gateway.String(help=\"Force field to parameterise the protein with.\",\n",
    "                                             allowed=[\"FF03\", \"FF14SB\", \"FF99\", \"FF99SB\", \"FF99SBILDN\"],\n",
    "                                             default=\"FF14SB\"))\n",
    "\n",
    "node.addInput(\"Water Model\", BSS.Gateway.String(help=\"Water model to use.\",\n",
    "                                             allowed=[\"SPC\", \"SPCE\", \"TIP3P\", \"TIP4P\", \"TIP5P\"],\n",
    "                                             default=\"TIP3P\"))\n",
    "\n",
    "node.addInput(\"Box Edges\", BSS.Gateway.String(help=\"Size of water box around molecular system.\",\n",
    "                                             allowed=[\"20*angstrom\", \"25*angstrom\", \"30*angstrom\", \"35*angstrom\", \"45*angstrom\", \"5*nm\", \"7*nm\", \"10*nm\"],\n",
    "                                             default=\"20*angstrom\"))\n",
    "\n",
    "node.addInput(\"Box Shape\", BSS.Gateway.String(help=\"Geometric shape of water box.\",\n",
    "                                             allowed=[\"cubic\", \"truncatedOctahedron\"],\n",
    "                                             default=\"cubic\"))\n",
    "\n",
    "node.addInput(\"Run Time\", BSS.Gateway.String(help=\"The sampling time per lambda window.\",\n",
    "                                             allowed=[\"10*ps\", \"100*ps\", \"1*ns\", \"2*ns\", \"3*ns\", \"4*ns\", \"5*ns\", \"8*ns\", \"10*ns\", \"12*ns\", \"15*ns\"],\n",
    "                                             default=\"2*ns\"))\n",
    "\n",
    "node.addInput(\"FEP Engine\", BSS.Gateway.String(help=\"Engine to run FEP with.\",\n",
    "                                             allowed=[e.upper() for e in BSS.FreeEnergy.engines()],\n",
    "                                             default=\"SOMD\"))\n",
    "\n",
    "node.addInput(\"LambdaWindows\", BSS.Gateway.String(help=\"The number of lambda windows for regular transformations.\",\n",
    "                                             allowed=[\"3\", \"4\", \"5\", \"6\", \"7\", \"8\", \"9\", \"10\", \"11\", \"12\", \"13\", \"14\", \"15\", \"16\", \"17\", \"18\", \"19\", \"20\"],\n",
    "                                             default=\"11\"))\n",
    "\n",
    "node.addInput(\"DiffLambdaWindows\", BSS.Gateway.String(help=\"The number of lambda windows for difficult transformations.\",\n",
    "                                             allowed=[\"4\", \"5\", \"6\", \"7\", \"8\", \"9\", \"10\", \"11\", \"12\", \"13\", \"14\", \"15\", \"16\", \"17\", \"18\", \"19\", \"20\"],\n",
    "                                             default=\"17\"))\n",
    "                                             \n",
    "node.addInput(\"LOMAP Threshold\", BSS.Gateway.String(help=\"The LOMAP score threshold to define difficult transformations.\",\n",
    "                                             allowed=[\"0.1\", \"0.2\", \"0.3\", \"0.4\", \"0.5\", \"0.6\", \"0.7\", \"0.8\", \"0.9\"],\n",
    "                                             default=\"0.4\"))\n",
    "\n",
    "node.showControls()"
   ]
  },
  {
   "cell_type": "markdown",
   "metadata": {},
   "source": [
    "After the parameters are chosen, the next step for generating an FEP network is to check the structure of the protein and ligands for which this will be run. \n",
    "\n",
    "\n",
    "The ligand files are provided in the inputs/ligands folder. They were generated using [FEGrow](https://github.com/cole-group/FEgrow).\n"
   ]
  },
  {
   "cell_type": "markdown",
   "metadata": {},
   "source": [
    "##### <span style=\"color:teal\">1.2. The FEP Network</span>  \n",
    "<a id=\"perts\"></a>\n",
    "\n",
    "Because we calculate relative energies, we therefore have to transform the between pairs of ligands in both the fee and bound phase (hence the name free energy perturbation. Typically, smaller (i.e. fewer heavy atoms) transformations are more reliable which means that for a ligand series we want to selectively make combinations of ligands to cover the whole series. In FEP, we do this using perturbation networks, typically generated by FEP softwares. Although generate these networks can be done by hand, it is typically better to do it programmatically to save time and create better networks (transformation reliability does not depend just on transformation size, but also a series of other unfavourable moiety transformations).   \n",
    "\n",
    "\n",
    "The reliability of FEP calculations is typically higher for transformations with fewer heavy atom changes and some other rules (e.g. no ring formations). LOMAP is a package that contains heuristics for this and is able to come up with a network for us; BioSimSpace contains a function generateNetwork() that uses LOMAP to come up with the perturbation network that visualises the desired perturbations. Additionally, a LOMAP score is calculated which quantifies the likeliness that the FEP prediction will be reliable (0 means unlikely, 1 means highly likely).   \n",
    "\n",
    " <span style=\"color:pink\">Further reading </span>: 7.1 (perturbation maps, Figure 5)"
   ]
  },
  {
   "cell_type": "code",
   "execution_count": null,
   "metadata": {},
   "outputs": [],
   "source": [
    "#generate transformation network based on ligands\n",
    "path_to_ligands =\"inputs/ligands\"\n",
    "ligand_files = sorted(glob.glob(f\"{path_to_ligands}/*.sdf\"))\n",
    "\n",
    "ligands = []\n",
    "ligand_names = []\n",
    "\n",
    "for filepath in ligand_files:\n",
    "    # append the molecule object to a list.\n",
    "    ligands.append(BSS.IO.readMolecules(filepath)[0])\n",
    "    \n",
    "    # append the molecule name to another list so that we can use the name of each molecule in our workflow.\n",
    "    ligand_names.append(filepath.split(\"/\")[-1].replace(\".sdf\",\"\"))\n",
    "\n",
    "transformations, lomap_scores = BSS.Align.generateNetwork(ligands, plot_network=True, names=ligand_names)\n"
   ]
  },
  {
   "cell_type": "markdown",
   "metadata": {},
   "source": [
    "BioSimSpace uses NetworkX which works with node indices for node names. Let's adjust our list of edges to have ligand names instead of ligand indices. We also generate a dictionary that contains all of the network information we need downstream."
   ]
  },
  {
   "cell_type": "code",
   "execution_count": null,
   "metadata": {},
   "outputs": [],
   "source": [
    "pert_network_dict = {}\n",
    "transformations_named = [(ligand_names[transf[0]], ligand_names[transf[1]]) for transf in transformations]\n",
    "for score, transf in sorted(zip(lomap_scores, transformations_named)):\n",
    "    pert_network_dict[transf] = score\n",
    "    print(transf, score)\n"
   ]
  },
  {
   "cell_type": "markdown",
   "metadata": {},
   "source": [
    "Unfortunately, even cutting-edge perturbation network generators such as LOMAP require some manual tweaking. In some cases, a ligand will have poor LOMAP scores on its edges and is therefore likely to be unreliable. To increase its reliability we often want to create an additional edge to this ligand, which can be easily done by appending the edge to our list of edges. Additionally, we usually want to avoid any ring breaking/forming transformations.\n",
    "\n",
    "To this end, we can introduce a ligand 'intermediate_H' that contains no atoms on the R-group. This makes it easier for the FEP code to perturb to cyclical R-groups. Using this type of network manipulation allows the user to include some cycles into the network, which is good for statistical performance of FEP predictions.\n",
    "\n",
    "Copy this ligand from the inputs/ligands/intermediate folder into the inputs/ligands folder and rerun the above network generation.\n",
    "\n",
    "Below, add any other perturbations, either with the intermediate, or any other ligands to complete a cycle.\n"
   ]
  },
  {
   "cell_type": "code",
   "execution_count": null,
   "metadata": {},
   "outputs": [],
   "source": [
    "pert_network_dict[('ejm47', 'ejm49')] = 0.1\n",
    "\n",
    "pert_network_dict"
   ]
  },
  {
   "cell_type": "markdown",
   "metadata": {},
   "source": [
    "Another way to manipulate the dictionary is to remove entries (i.e. remove edges from the network). When we look at the edges suggested by LOMAP that have low scores, we see that some are likely to be unreliable in FEP. Luckily, this is because cycle formation/removal in a single-topology-style FEP must be from/to a hydrogen, not a carbon atom. This is why we have introduced 'intermediate_H', so this has largely been solved by generating the network again above. Still, the below syntax can be used if any edges are to be removed."
   ]
  },
  {
   "cell_type": "code",
   "execution_count": null,
   "metadata": {},
   "outputs": [],
   "source": [
    "for key in [('A', 'B'), ('C', 'D')]:\n",
    "    del pert_network_dict[key]\n",
    "pert_network_dict"
   ]
  },
  {
   "cell_type": "markdown",
   "metadata": {},
   "source": [
    "##### <span style=\"color:teal\">1.3. Preparing for the FEP pipeline</span>  \n",
    "\n",
    "Once we have our protein, ligands, and have planned the network, we need to write all the files we need for running the FEP Pipeline.\n",
    "\n",
    "This includes the following files:\n",
    " - ligands.dat , which includes all the ligands that must be prepared\n",
    " - network.dat , which includes all the perturbations and the number of lambda windows\n",
    " - protocol.dat , which includes the details of the protocol used"
   ]
  },
  {
   "cell_type": "code",
   "execution_count": null,
   "metadata": {},
   "outputs": [],
   "source": [
    "# write ligands file.\n",
    "with open(\"ligands.dat\", \"w\") as ligands_file:\n",
    "    writer = csv.writer(ligands_file)\n",
    "    for lig in ligand_names:\n",
    "        writer.writerow([lig])\n",
    "\n",
    "# write perts file. Base the lambda schedule on the file generated in the previous cell.\n",
    "np.set_printoptions(formatter={'float': '{: .4f}'.format})\n",
    "\n",
    "# from protocol, derive the engine we want to use on the cluster.\n",
    "engine = node.getInput('FEP Engine').upper()\n",
    "\n",
    "with open(\"network.dat\", \"w\") as network_file:\n",
    "\n",
    "    writer = csv.writer(network_file, delimiter=\" \")\n",
    "    \n",
    "    for pert, lomap_score in pert_network_dict.items():\n",
    "        # based on the provided (at top of notebook) lambda allocations and LOMAP threshold, decide allocation.\n",
    "        if lomap_score == None or lomap_score < float(node.getInput(\"LOMAP Threshold\")):\n",
    "            num_lambda = node.getInput(\"DiffLambdaWindows\")\n",
    "        else:\n",
    "            num_lambda = node.getInput(\"LambdaWindows\")\n",
    "            \n",
    "       \n",
    "        # given the number of allocated lambda windows, generate an array for parsing downstream.\n",
    "        lam_array_np = np.around(np.linspace(0, 1, int(num_lambda)), decimals=5)\n",
    "\n",
    "        # make the array into a format readable by bash.\n",
    "        lam_array = str(lam_array_np).replace(\"[ \", \"\").replace(\"]\", \"\").replace(\"  \", \",\").replace('\\n', '')\n",
    "\n",
    "        # write out both directions for this perturbation.\n",
    "        writer.writerow([pert[0], pert[1], len(lam_array_np), lam_array, engine])\n",
    "        writer.writerow([pert[1], pert[0], len(lam_array_np), lam_array, engine])         \n",
    "\n",
    "# create protocol. \n",
    "protocol = [\n",
    "    f\"ligand forcefield = {node.getInput('Ligand FF')}\",\n",
    "    f\"protein forcefield = {node.getInput('Protein FF')}\",\n",
    "    f\"solvent = {node.getInput('Water Model')}\",\n",
    "    f\"box edges = {node.getInput('Box Edges')}\",\n",
    "    f\"box type = {node.getInput('Box Shape')}\",\n",
    "    f\"protocol = default\",\n",
    "    f\"sampling = {node.getInput('Run Time')}\",\n",
    "    f\"engine = {node.getInput('FEP Engine').upper()}\"\n",
    "]\n",
    "\n",
    "# write protocol to file.\n",
    "with open(\"protocol.dat\", \"w\") as protocol_file:\n",
    "    writer = csv.writer(protocol_file)\n",
    "\n",
    "    for prot_line in protocol:\n",
    "        \n",
    "        writer.writerow([prot_line])"
   ]
  },
  {
   "cell_type": "markdown",
   "metadata": {},
   "source": [
    "We can print these below to check them."
   ]
  },
  {
   "cell_type": "code",
   "execution_count": 2,
   "metadata": {},
   "outputs": [
    {
     "name": "stdout",
     "output_type": "stream",
     "text": [
      "Ligands...\n",
      "['ejm31']\n",
      "['ejm42']\n",
      "['ejm43']\n",
      "['ejm44']\n",
      "['ejm45']\n",
      "['ejm46']\n",
      "['ejm47']\n",
      "['ejm48']\n",
      "['ejm49']\n",
      "['ejm50']\n",
      "['ejm51']\n",
      "['ejm52']\n",
      "['ejm53']\n",
      "['ejm54']\n",
      "['ejm55']\n",
      "['intermediate_H']\n",
      "\n",
      "\n",
      "Network...\n",
      "['ejm54 intermediate_H 11 0.0000', '0.1000', '0.2000', '0.3000', '0.4000', '0.5000', '0.6000', '0.7000', '0.8000', '0.9000', '1.0000 SOMD']\n",
      "['intermediate_H ejm54 11 0.0000', '0.1000', '0.2000', '0.3000', '0.4000', '0.5000', '0.6000', '0.7000', '0.8000', '0.9000', '1.0000 SOMD']\n",
      "['ejm45 intermediate_H 11 0.0000', '0.1000', '0.2000', '0.3000', '0.4000', '0.5000', '0.6000', '0.7000', '0.8000', '0.9000', '1.0000 SOMD']\n",
      "['intermediate_H ejm45 11 0.0000', '0.1000', '0.2000', '0.3000', '0.4000', '0.5000', '0.6000', '0.7000', '0.8000', '0.9000', '1.0000 SOMD']\n",
      "['ejm53 intermediate_H 11 0.0000', '0.1000', '0.2000', '0.3000', '0.4000', '0.5000', '0.6000', '0.7000', '0.8000', '0.9000', '1.0000 SOMD']\n",
      "['intermediate_H ejm53 11 0.0000', '0.1000', '0.2000', '0.3000', '0.4000', '0.5000', '0.6000', '0.7000', '0.8000', '0.9000', '1.0000 SOMD']\n",
      "['ejm44 intermediate_H 11 0.0000', '0.1000', '0.2000', '0.3000', '0.4000', '0.5000', '0.6000', '0.7000', '0.8000', '0.9000', '1.0000 SOMD']\n",
      "['intermediate_H ejm44 11 0.0000', '0.1000', '0.2000', '0.3000', '0.4000', '0.5000', '0.6000', '0.7000', '0.8000', '0.9000', '1.0000 SOMD']\n",
      "['ejm50 intermediate_H 11 0.0000', '0.1000', '0.2000', '0.3000', '0.4000', '0.5000', '0.6000', '0.7000', '0.8000', '0.9000', '1.0000 SOMD']\n",
      "['intermediate_H ejm50 11 0.0000', '0.1000', '0.2000', '0.3000', '0.4000', '0.5000', '0.6000', '0.7000', '0.8000', '0.9000', '1.0000 SOMD']\n",
      "['ejm52 intermediate_H 11 0.0000', '0.1000', '0.2000', '0.3000', '0.4000', '0.5000', '0.6000', '0.7000', '0.8000', '0.9000', '1.0000 SOMD']\n",
      "['intermediate_H ejm52 11 0.0000', '0.1000', '0.2000', '0.3000', '0.4000', '0.5000', '0.6000', '0.7000', '0.8000', '0.9000', '1.0000 SOMD']\n",
      "['ejm31 ejm50 11 0.0000', '0.1000', '0.2000', '0.3000', '0.4000', '0.5000', '0.6000', '0.7000', '0.8000', '0.9000', '1.0000 SOMD']\n",
      "['ejm50 ejm31 11 0.0000', '0.1000', '0.2000', '0.3000', '0.4000', '0.5000', '0.6000', '0.7000', '0.8000', '0.9000', '1.0000 SOMD']\n",
      "['ejm51 intermediate_H 11 0.0000', '0.1000', '0.2000', '0.3000', '0.4000', '0.5000', '0.6000', '0.7000', '0.8000', '0.9000', '1.0000 SOMD']\n",
      "['intermediate_H ejm51 11 0.0000', '0.1000', '0.2000', '0.3000', '0.4000', '0.5000', '0.6000', '0.7000', '0.8000', '0.9000', '1.0000 SOMD']\n",
      "['ejm42 ejm49 11 0.0000', '0.1000', '0.2000', '0.3000', '0.4000', '0.5000', '0.6000', '0.7000', '0.8000', '0.9000', '1.0000 SOMD']\n",
      "['ejm49 ejm42 11 0.0000', '0.1000', '0.2000', '0.3000', '0.4000', '0.5000', '0.6000', '0.7000', '0.8000', '0.9000', '1.0000 SOMD']\n",
      "['ejm42 ejm46 11 0.0000', '0.1000', '0.2000', '0.3000', '0.4000', '0.5000', '0.6000', '0.7000', '0.8000', '0.9000', '1.0000 SOMD']\n",
      "['ejm46 ejm42 11 0.0000', '0.1000', '0.2000', '0.3000', '0.4000', '0.5000', '0.6000', '0.7000', '0.8000', '0.9000', '1.0000 SOMD']\n",
      "['ejm46 ejm47 11 0.0000', '0.1000', '0.2000', '0.3000', '0.4000', '0.5000', '0.6000', '0.7000', '0.8000', '0.9000', '1.0000 SOMD']\n",
      "['ejm47 ejm46 11 0.0000', '0.1000', '0.2000', '0.3000', '0.4000', '0.5000', '0.6000', '0.7000', '0.8000', '0.9000', '1.0000 SOMD']\n",
      "['ejm31 ejm43 11 0.0000', '0.1000', '0.2000', '0.3000', '0.4000', '0.5000', '0.6000', '0.7000', '0.8000', '0.9000', '1.0000 SOMD']\n",
      "['ejm43 ejm31 11 0.0000', '0.1000', '0.2000', '0.3000', '0.4000', '0.5000', '0.6000', '0.7000', '0.8000', '0.9000', '1.0000 SOMD']\n",
      "['ejm31 ejm55 11 0.0000', '0.1000', '0.2000', '0.3000', '0.4000', '0.5000', '0.6000', '0.7000', '0.8000', '0.9000', '1.0000 SOMD']\n",
      "['ejm55 ejm31 11 0.0000', '0.1000', '0.2000', '0.3000', '0.4000', '0.5000', '0.6000', '0.7000', '0.8000', '0.9000', '1.0000 SOMD']\n",
      "['ejm31 intermediate_H 11 0.0000', '0.1000', '0.2000', '0.3000', '0.4000', '0.5000', '0.6000', '0.7000', '0.8000', '0.9000', '1.0000 SOMD']\n",
      "['intermediate_H ejm31 11 0.0000', '0.1000', '0.2000', '0.3000', '0.4000', '0.5000', '0.6000', '0.7000', '0.8000', '0.9000', '1.0000 SOMD']\n",
      "['ejm42 ejm48 11 0.0000', '0.1000', '0.2000', '0.3000', '0.4000', '0.5000', '0.6000', '0.7000', '0.8000', '0.9000', '1.0000 SOMD']\n",
      "['ejm48 ejm42 11 0.0000', '0.1000', '0.2000', '0.3000', '0.4000', '0.5000', '0.6000', '0.7000', '0.8000', '0.9000', '1.0000 SOMD']\n",
      "['ejm48 ejm49 11 0.0000', '0.1000', '0.2000', '0.3000', '0.4000', '0.5000', '0.6000', '0.7000', '0.8000', '0.9000', '1.0000 SOMD']\n",
      "['ejm49 ejm48 11 0.0000', '0.1000', '0.2000', '0.3000', '0.4000', '0.5000', '0.6000', '0.7000', '0.8000', '0.9000', '1.0000 SOMD']\n",
      "['ejm42 ejm43 11 0.0000', '0.1000', '0.2000', '0.3000', '0.4000', '0.5000', '0.6000', '0.7000', '0.8000', '0.9000', '1.0000 SOMD']\n",
      "['ejm43 ejm42 11 0.0000', '0.1000', '0.2000', '0.3000', '0.4000', '0.5000', '0.6000', '0.7000', '0.8000', '0.9000', '1.0000 SOMD']\n",
      "['ejm42 ejm47 11 0.0000', '0.1000', '0.2000', '0.3000', '0.4000', '0.5000', '0.6000', '0.7000', '0.8000', '0.9000', '1.0000 SOMD']\n",
      "['ejm47 ejm42 11 0.0000', '0.1000', '0.2000', '0.3000', '0.4000', '0.5000', '0.6000', '0.7000', '0.8000', '0.9000', '1.0000 SOMD']\n",
      "['ejm42 ejm55 11 0.0000', '0.1000', '0.2000', '0.3000', '0.4000', '0.5000', '0.6000', '0.7000', '0.8000', '0.9000', '1.0000 SOMD']\n",
      "['ejm55 ejm42 11 0.0000', '0.1000', '0.2000', '0.3000', '0.4000', '0.5000', '0.6000', '0.7000', '0.8000', '0.9000', '1.0000 SOMD']\n",
      "['ejm44 ejm52 11 0.0000', '0.1000', '0.2000', '0.3000', '0.4000', '0.5000', '0.6000', '0.7000', '0.8000', '0.9000', '1.0000 SOMD']\n",
      "['ejm52 ejm44 11 0.0000', '0.1000', '0.2000', '0.3000', '0.4000', '0.5000', '0.6000', '0.7000', '0.8000', '0.9000', '1.0000 SOMD']\n",
      "['ejm45 ejm53 11 0.0000', '0.1000', '0.2000', '0.3000', '0.4000', '0.5000', '0.6000', '0.7000', '0.8000', '0.9000', '1.0000 SOMD']\n",
      "['ejm53 ejm45 11 0.0000', '0.1000', '0.2000', '0.3000', '0.4000', '0.5000', '0.6000', '0.7000', '0.8000', '0.9000', '1.0000 SOMD']\n",
      "['ejm47 ejm49 17 0.0000', '0.0625', '0.1250', '0.1875', '0.2500', '0.3125', '0.3750', '0.4375', '0.5000', '0.5625', '0.6250', '0.6875', '0.7500', '0.8125', '0.8750', '0.9375', '1.0000 SOMD']\n",
      "['ejm49 ejm47 17 0.0000', '0.0625', '0.1250', '0.1875', '0.2500', '0.3125', '0.3750', '0.4375', '0.5000', '0.5625', '0.6250', '0.6875', '0.7500', '0.8125', '0.8750', '0.9375', '1.0000 SOMD']\n",
      "\n",
      "\n",
      "Protocol...\n",
      "['ligand forcefield = GAFF2']\n",
      "['protein forcefield = FF14SB']\n",
      "['solvent = TIP3P']\n",
      "['box edges = 20*angstrom']\n",
      "['box type = cubic']\n",
      "['protocol = default']\n",
      "['sampling = 2*ns']\n",
      "['engine = SOMD']\n"
     ]
    }
   ],
   "source": [
    "print(\"Ligands...\")\n",
    "f = open(f\"ligands.dat\")\n",
    "for row in csv.reader(f):\n",
    "    print(str(row))\n",
    "\n",
    "print('\\n')\n",
    "print(\"Network...\")\n",
    "f = open(f\"network.dat\")\n",
    "for row in csv.reader(f):\n",
    "    print(str(row))\n",
    "\n",
    "print('\\n')\n",
    "print(\"Protocol...\")\n",
    "f=open(f\"protocol.dat\")\n",
    "for row in csv.reader(f):\n",
    "    print(str(row))"
   ]
  },
  {
   "cell_type": "markdown",
   "metadata": {},
   "source": [
    "##### <span style=\"color:teal\">Parallelisation - Running the MD simulations</span>\n",
    "\n",
    "Once all the files are written, the folder can be copied to a computing cluster so that the simulations can be parallelised. A simple example script for this for a slurm cluster (without any analysis) is included in the scripts directory.\n",
    "\n",
    "This calls the following scripts in order:\n",
    "\n",
    " - Ligand preparation (BSSligprep.py) - The ligand and protein are paramaterised, combined, and solvated. Equilibration is carried out.\n",
    "\n",
    " - FEP preparation (BSSprepFEP.py) - For the perturbation, the ligands are mapped according to their maximum common substructure, and a perturbable system is created. The folders for the FEP run for SOMD are written.\n",
    "\n",
    " - Running the production windows (runFEP.sh) - As each lambda window can be run independantly of other lambda windows, this is where most of the parallelisation takes place. Each window is submitted as part of a slurm array job.\n",
    "\n",
    "\n",
    "More detailed scripts, including one for an LSF cluster, are in the [BioSimSpace Tutorials](https://github.com/michellab/BioSimSpaceTutorials/tree/main/04_fep/execution_model/scripts).\n",
    "\n",
    "As these would take too long to run in the span of a workshop, outputs from the runs above are in the outputs directory. We will analyse these in the next part of the tutorial."
   ]
  },
  {
   "cell_type": "code",
   "execution_count": null,
   "metadata": {},
   "outputs": [],
   "source": []
  }
 ],
 "metadata": {
  "kernelspec": {
   "display_name": "Python 3 (ipykernel)",
   "language": "python",
   "name": "python3"
  },
  "language_info": {
   "codemirror_mode": {
    "name": "ipython",
    "version": 3
   },
   "file_extension": ".py",
   "mimetype": "text/x-python",
   "name": "python",
   "nbconvert_exporter": "python",
   "pygments_lexer": "ipython3",
   "version": "3.9.13"
  },
  "varInspector": {
   "cols": {
    "lenName": 16,
    "lenType": 16,
    "lenVar": 40
   },
   "kernels_config": {
    "python": {
     "delete_cmd_postfix": "",
     "delete_cmd_prefix": "del ",
     "library": "var_list.py",
     "varRefreshCmd": "print(var_dic_list())"
    },
    "r": {
     "delete_cmd_postfix": ") ",
     "delete_cmd_prefix": "rm(",
     "library": "var_list.r",
     "varRefreshCmd": "cat(var_dic_list()) "
    }
   },
   "types_to_exclude": [
    "module",
    "function",
    "builtin_function_or_method",
    "instance",
    "_Feature"
   ],
   "window_display": false
  },
  "vscode": {
   "interpreter": {
    "hash": "d79bb85316fa6c998e385cc39903e056bffeb3f6098416e9c269ddd32175e919"
   }
  }
 },
 "nbformat": 4,
 "nbformat_minor": 2
}
