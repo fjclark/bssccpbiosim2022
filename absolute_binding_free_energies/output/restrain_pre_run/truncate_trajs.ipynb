{
 "cells": [
  {
   "cell_type": "code",
   "execution_count": 7,
   "metadata": {},
   "outputs": [
    {
     "name": "stdout",
     "output_type": "stream",
     "text": [
      "lambda_0.000/traj000000001.dcd\n",
      "lambda_0.125/traj000000001.dcd\n",
      "lambda_0.250/traj000000001.dcd\n",
      "lambda_0.375/traj000000001.dcd\n",
      "lambda_0.500/traj000000001.dcd\n",
      "lambda_1.000/traj000000001.dcd\n"
     ]
    }
   ],
   "source": [
    "import MDAnalysis as mda\n",
    "\n",
    "def truncate_traj(lam):\n",
    "    dcd = f\"lambda_{lam:.3f}/traj000000001.dcd\"\n",
    "    print(dcd)\n",
    "    u = mda.Universe(f\"../../input/complex/mif_mif180.pdb\", dcd)\n",
    "    ag = u.select_atoms(\"all\")\n",
    "    ag.write(f'lambda_{lam:.3f}/traj000000001_truncated.dcd', frames=u.trajectory[::5])\n",
    "\n",
    "for lam in [0.000, 0.125, 0.250, 0.375, 0.500, 1.000]:\n",
    "    truncate_traj(lam)"
   ]
  },
  {
   "cell_type": "code",
   "execution_count": null,
   "metadata": {},
   "outputs": [],
   "source": []
  }
 ],
 "metadata": {
  "kernelspec": {
   "display_name": "Python 3.9.10",
   "language": "python",
   "name": "python3"
  },
  "language_info": {
   "codemirror_mode": {
    "name": "ipython",
    "version": 3
   },
   "file_extension": ".py",
   "mimetype": "text/x-python",
   "name": "python",
   "nbconvert_exporter": "python",
   "pygments_lexer": "ipython3",
   "version": "3.9.10"
  },
  "orig_nbformat": 4,
  "vscode": {
   "interpreter": {
    "hash": "91a4ca8273f7d6826e5f84789c42688b948ba55a4a582bdc4bdb0676eea3da3d"
   }
  }
 },
 "nbformat": 4,
 "nbformat_minor": 2
}
